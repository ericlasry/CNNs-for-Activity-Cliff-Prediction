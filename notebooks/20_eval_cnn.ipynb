{
 "cells": [
  {
   "cell_type": "code",
   "execution_count": 1,
   "id": "2606bca8",
   "metadata": {},
   "outputs": [],
   "source": [
    "import numpy as np\n",
    "import pandas as pd\n",
    "import matplotlib.pyplot as plt\n",
    "\n",
    "import re"
   ]
  },
  {
   "cell_type": "markdown",
   "id": "d20b2af8",
   "metadata": {},
   "source": [
    "## Hyperparameter optimization tables\n",
    "\n",
    "First we generate hyperparameter optimization tables for all models M0x (no pooling), M1x (pooling) for strict and full test sets."
   ]
  },
  {
   "cell_type": "code",
   "execution_count": 15,
   "id": "fd09f85c",
   "metadata": {},
   "outputs": [],
   "source": [
    "pd.set_option(\"display.precision\", 3)"
   ]
  },
  {
   "cell_type": "code",
   "execution_count": 16,
   "id": "9369b89f",
   "metadata": {},
   "outputs": [],
   "source": [
    "for s in ['','_full']:\n",
    "    for num in ['01','02','03','04','05','11','12','13','14','15']:\n",
    "        name = \"M\"+num+s\n",
    "        \n",
    "        metrics = pd.read_csv(\"./metrics/metrics_\"+name+\".csv\").set_index('Model').dropna()\n",
    "        tex_content = metrics.style.highlight_max(color = 'lightgreen', axis = 0, subset=[\"MCC\"])\\\n",
    "            .highlight_max(color = 'lightblue', axis=0, subset=[\"Accuracy\", \"Precision\", \"Recall\", \"Specificity\", \"F1\"])\\\n",
    "            .to_latex()\n",
    "        re_borders = re.compile(r\"begin\\{tabular\\}\\{([^\\}]+)\\}\")\n",
    "        borders = re_borders.findall(tex_content)[0]\n",
    "        borders = '|'.join(list(borders))\n",
    "        tex_content = re_borders.sub(\"begin{tabular}{|\" + borders + \"|}\", tex_content)\n",
    "        \n",
    "        f = open(\"./latex/styled_\"+name,\"w+\")\n",
    "        f.write(tex_content)\n",
    "        f.close()"
   ]
  },
  {
   "cell_type": "markdown",
   "id": "49ba0c61",
   "metadata": {},
   "source": [
    "## Effect of depth on performance\n",
    "\n",
    "To examine the effect of network depth on model performance, we generate metrics tables across models with best hyperparameter optimization configurations.\n",
    "Separate tables are generated for M0x and M1x models. We stylize and save latex-format versions to <code>./latex/styled_best_Mxx</code>"
   ]
  },
  {
   "cell_type": "markdown",
   "id": "16a9a90d",
   "metadata": {},
   "source": [
    "We compare best models with no pooling (M01 - M05) first."
   ]
  },
  {
   "cell_type": "code",
   "execution_count": 3,
   "id": "f679632c",
   "metadata": {},
   "outputs": [],
   "source": [
    "best_configs = {}\n",
    "rows = []\n",
    "num_layers = 2\n",
    "for s in ['']:\n",
    "    for num in ['01','02','03','04','05']:\n",
    "        name = \"M\"+num+s\n",
    "    \n",
    "        metrics = pd.read_csv(\"./metrics/metrics_\"+name+\".csv\").dropna()\n",
    "\n",
    "        # ind is the bool series for the best config, index is the row number\n",
    "        ind = metrics['MCC']==max(metrics['MCC'])\n",
    "        index = [x for x in range(len(ind)) if ind[x]][0]\n",
    "\n",
    "        # This gives the best hyperparam config for this model\n",
    "        best_config = metrics.loc[ind, 'Model']\n",
    "        try:\n",
    "            best_configs[name] = list(best_config)[0]\n",
    "        except:\n",
    "            print(name)\n",
    "\n",
    "        # Drop model from metrics\n",
    "        metrics = metrics.drop('Model', axis=1)\n",
    "        best_config_row = metrics.loc[index]\n",
    "        best_config_row['# Layers'] = str(num_layers)\n",
    "        \n",
    "        num_layers += 1\n",
    "        rows.append(best_config_row)\n",
    "\n",
    "best = pd.DataFrame(rows).set_index('# Layers')\n",
    "\n",
    "tex_content = best.style.highlight_max(color = 'lightgreen', axis = 0, subset=[\"MCC\"])\\\n",
    "            .highlight_max(color = 'lightblue', axis=0, subset=[\"Accuracy\", \"Precision\", \"Recall\", \"Specificity\", \"F1\"])\\\n",
    "            .to_latex()\n",
    "re_borders = re.compile(r\"begin\\{tabular\\}\\{([^\\}]+)\\}\")\n",
    "borders = re_borders.findall(tex_content)[0]\n",
    "borders = '|'.join(list(borders))\n",
    "tex_content = re_borders.sub(\"begin{tabular}{|\" + borders + \"|}\", tex_content)\n",
    "\n",
    "f = open(\"./latex/styled_best_0X\",\"w+\")\n",
    "f.write(tex_content)\n",
    "f.close()"
   ]
  },
  {
   "cell_type": "markdown",
   "id": "15e289f2",
   "metadata": {},
   "source": [
    "The no-pooling results table:"
   ]
  },
  {
   "cell_type": "code",
   "execution_count": null,
   "id": "0bb998c8",
   "metadata": {},
   "outputs": [],
   "source": [
    "best"
   ]
  },
  {
   "cell_type": "markdown",
   "id": "ce6924bc",
   "metadata": {},
   "source": [
    "Then we compare across models with pooling:"
   ]
  },
  {
   "cell_type": "code",
   "execution_count": 4,
   "id": "1af94a10",
   "metadata": {},
   "outputs": [],
   "source": [
    "best_configs = {}\n",
    "rows = []\n",
    "num_layers = 2\n",
    "for s in ['']:\n",
    "    for num in ['11','12','13','14','15']:\n",
    "        name = \"M\"+num+s\n",
    "    \n",
    "        metrics = pd.read_csv(\"./metrics/metrics_\"+name+\".csv\").dropna().reset_index(drop=True)\n",
    "\n",
    "        # ind is the bool series for the best config, index is the row number\n",
    "        ind = metrics['MCC']==max(metrics['MCC'])\n",
    "        index = [c for c,x in enumerate(ind) if ind[c]][0]\n",
    "\n",
    "        # This gives the best hyperparam config for this model\n",
    "        best_config = metrics.loc[ind, 'Model']\n",
    "        try:\n",
    "            best_configs[name] = list(best_config)[0]\n",
    "        except:\n",
    "            print(name)\n",
    "\n",
    "        # Drop model from metrics\n",
    "        metrics = metrics.drop('Model', axis=1)\n",
    "        best_config_row = metrics.loc[index]\n",
    "        best_config_row['# Layers'] = str(num_layers)\n",
    "        \n",
    "        num_layers += 1\n",
    "        rows.append(best_config_row)\n",
    "\n",
    "bestP = pd.DataFrame(rows).set_index('# Layers')\n",
    "\n",
    "tex_content = bestP.style.highlight_max(color = 'lightgreen', axis = 0, subset=[\"MCC\"])\\\n",
    "            .highlight_max(color = 'lightblue', axis=0, subset=[\"Accuracy\", \"Precision\", \"Recall\", \"Specificity\", \"F1\"])\\\n",
    "            .to_latex()\n",
    "re_borders = re.compile(r\"begin\\{tabular\\}\\{([^\\}]+)\\}\")\n",
    "borders = re_borders.findall(tex_content)[0]\n",
    "borders = '|'.join(list(borders))\n",
    "tex_content = re_borders.sub(\"begin{tabular}{|\" + borders + \"|}\", tex_content)\n",
    "\n",
    "f = open(\"./latex/styled_best_1X\",\"w+\")\n",
    "f.write(tex_content)\n",
    "f.close()"
   ]
  },
  {
   "cell_type": "markdown",
   "id": "357e0829",
   "metadata": {},
   "source": [
    "The pooling results table:"
   ]
  },
  {
   "cell_type": "code",
   "execution_count": 7,
   "id": "8452a8f8",
   "metadata": {},
   "outputs": [
    {
     "data": {
      "text/html": [
       "<div>\n",
       "<style scoped>\n",
       "    .dataframe tbody tr th:only-of-type {\n",
       "        vertical-align: middle;\n",
       "    }\n",
       "\n",
       "    .dataframe tbody tr th {\n",
       "        vertical-align: top;\n",
       "    }\n",
       "\n",
       "    .dataframe thead th {\n",
       "        text-align: right;\n",
       "    }\n",
       "</style>\n",
       "<table border=\"1\" class=\"dataframe\">\n",
       "  <thead>\n",
       "    <tr style=\"text-align: right;\">\n",
       "      <th></th>\n",
       "      <th>Accuracy</th>\n",
       "      <th>Precision</th>\n",
       "      <th>Recall</th>\n",
       "      <th>Specificity</th>\n",
       "      <th>F1</th>\n",
       "      <th>MCC</th>\n",
       "    </tr>\n",
       "    <tr>\n",
       "      <th># Layers</th>\n",
       "      <th></th>\n",
       "      <th></th>\n",
       "      <th></th>\n",
       "      <th></th>\n",
       "      <th></th>\n",
       "      <th></th>\n",
       "    </tr>\n",
       "  </thead>\n",
       "  <tbody>\n",
       "    <tr>\n",
       "      <th>2</th>\n",
       "      <td>0.864</td>\n",
       "      <td>0.361</td>\n",
       "      <td>0.284</td>\n",
       "      <td>0.937</td>\n",
       "      <td>0.318</td>\n",
       "      <td>0.246</td>\n",
       "    </tr>\n",
       "    <tr>\n",
       "      <th>3</th>\n",
       "      <td>0.871</td>\n",
       "      <td>0.372</td>\n",
       "      <td>0.228</td>\n",
       "      <td>0.952</td>\n",
       "      <td>0.283</td>\n",
       "      <td>0.224</td>\n",
       "    </tr>\n",
       "    <tr>\n",
       "      <th>4</th>\n",
       "      <td>0.870</td>\n",
       "      <td>0.374</td>\n",
       "      <td>0.249</td>\n",
       "      <td>0.948</td>\n",
       "      <td>0.299</td>\n",
       "      <td>0.236</td>\n",
       "    </tr>\n",
       "    <tr>\n",
       "      <th>5</th>\n",
       "      <td>0.866</td>\n",
       "      <td>0.362</td>\n",
       "      <td>0.259</td>\n",
       "      <td>0.943</td>\n",
       "      <td>0.302</td>\n",
       "      <td>0.234</td>\n",
       "    </tr>\n",
       "    <tr>\n",
       "      <th>6</th>\n",
       "      <td>0.869</td>\n",
       "      <td>0.379</td>\n",
       "      <td>0.279</td>\n",
       "      <td>0.943</td>\n",
       "      <td>0.322</td>\n",
       "      <td>0.254</td>\n",
       "    </tr>\n",
       "  </tbody>\n",
       "</table>\n",
       "</div>"
      ],
      "text/plain": [
       "          Accuracy  Precision  Recall  Specificity     F1    MCC\n",
       "# Layers                                                        \n",
       "2            0.864      0.361   0.284        0.937  0.318  0.246\n",
       "3            0.871      0.372   0.228        0.952  0.283  0.224\n",
       "4            0.870      0.374   0.249        0.948  0.299  0.236\n",
       "5            0.866      0.362   0.259        0.943  0.302  0.234\n",
       "6            0.869      0.379   0.279        0.943  0.322  0.254"
      ]
     },
     "execution_count": 7,
     "metadata": {},
     "output_type": "execute_result"
    }
   ],
   "source": [
    "bestP "
   ]
  },
  {
   "cell_type": "markdown",
   "id": "a5cc5c81",
   "metadata": {},
   "source": [
    "## Effect of depth on Accuracy and Recall\n",
    "\n",
    "We analyze this through plotting paired barcharts of accuracy by layer and by pooling, then through scatterplots."
   ]
  },
  {
   "cell_type": "code",
   "execution_count": 16,
   "id": "4bf1e884",
   "metadata": {
    "scrolled": true
   },
   "outputs": [],
   "source": [
    "#best = best.reset_index()\n",
    "#bestP = bestP.reset_index()\n",
    "\n",
    "x = [2,3,4,5,6]\n",
    "y = best['Accuracy']\n",
    "yP = bestP['Accuracy']\n",
    "\n",
    "y2 = best['Recall']\n",
    "y2P = bestP['Recall']\n",
    "\n",
    "dy = [y[x] - yP[x] for x in range(len(y))]"
   ]
  },
  {
   "cell_type": "code",
   "execution_count": 31,
   "id": "21d90df8",
   "metadata": {
    "scrolled": true
   },
   "outputs": [
    {
     "ename": "TypeError",
     "evalue": "set_ticks() takes 2 positional arguments but 3 were given",
     "output_type": "error",
     "traceback": [
      "\u001b[0;31m---------------------------------------------------------------------------\u001b[0m",
      "\u001b[0;31mTypeError\u001b[0m                                 Traceback (most recent call last)",
      "\u001b[0;32m/tmp/ipykernel_3184556/1653150549.py\u001b[0m in \u001b[0;36m<module>\u001b[0;34m\u001b[0m\n\u001b[1;32m     11\u001b[0m \u001b[0max\u001b[0m\u001b[0;34m.\u001b[0m\u001b[0mset_ylabel\u001b[0m\u001b[0;34m(\u001b[0m\u001b[0;34m'Accuracy'\u001b[0m\u001b[0;34m)\u001b[0m\u001b[0;34m\u001b[0m\u001b[0;34m\u001b[0m\u001b[0m\n\u001b[1;32m     12\u001b[0m \u001b[0max\u001b[0m\u001b[0;34m.\u001b[0m\u001b[0mset_title\u001b[0m\u001b[0;34m(\u001b[0m\u001b[0;34m'Accuracy by #Layers \\n and Pooling'\u001b[0m\u001b[0;34m)\u001b[0m\u001b[0;34m\u001b[0m\u001b[0;34m\u001b[0m\u001b[0m\n\u001b[0;32m---> 13\u001b[0;31m \u001b[0max\u001b[0m\u001b[0;34m.\u001b[0m\u001b[0mset_xticks\u001b[0m\u001b[0;34m(\u001b[0m\u001b[0mx\u001b[0m\u001b[0;34m,\u001b[0m \u001b[0mlabels\u001b[0m\u001b[0;34m)\u001b[0m\u001b[0;34m\u001b[0m\u001b[0;34m\u001b[0m\u001b[0m\n\u001b[0m\u001b[1;32m     14\u001b[0m \u001b[0max\u001b[0m\u001b[0;34m.\u001b[0m\u001b[0mlegend\u001b[0m\u001b[0;34m(\u001b[0m\u001b[0;34m)\u001b[0m\u001b[0;34m\u001b[0m\u001b[0;34m\u001b[0m\u001b[0m\n\u001b[1;32m     15\u001b[0m \u001b[0;34m\u001b[0m\u001b[0m\n",
      "\u001b[0;32m/apps/system/easybuild/software/Anaconda3/2021.11/lib/python3.9/site-packages/matplotlib/axes/_base.py\u001b[0m in \u001b[0;36mwrapper\u001b[0;34m(self, *args, **kwargs)\u001b[0m\n\u001b[1;32m     71\u001b[0m \u001b[0;34m\u001b[0m\u001b[0m\n\u001b[1;32m     72\u001b[0m         \u001b[0;32mdef\u001b[0m \u001b[0mwrapper\u001b[0m\u001b[0;34m(\u001b[0m\u001b[0mself\u001b[0m\u001b[0;34m,\u001b[0m \u001b[0;34m*\u001b[0m\u001b[0margs\u001b[0m\u001b[0;34m,\u001b[0m \u001b[0;34m**\u001b[0m\u001b[0mkwargs\u001b[0m\u001b[0;34m)\u001b[0m\u001b[0;34m:\u001b[0m\u001b[0;34m\u001b[0m\u001b[0;34m\u001b[0m\u001b[0m\n\u001b[0;32m---> 73\u001b[0;31m             \u001b[0;32mreturn\u001b[0m \u001b[0mget_method\u001b[0m\u001b[0;34m(\u001b[0m\u001b[0mself\u001b[0m\u001b[0;34m)\u001b[0m\u001b[0;34m(\u001b[0m\u001b[0;34m*\u001b[0m\u001b[0margs\u001b[0m\u001b[0;34m,\u001b[0m \u001b[0;34m**\u001b[0m\u001b[0mkwargs\u001b[0m\u001b[0;34m)\u001b[0m\u001b[0;34m\u001b[0m\u001b[0;34m\u001b[0m\u001b[0m\n\u001b[0m\u001b[1;32m     74\u001b[0m \u001b[0;34m\u001b[0m\u001b[0m\n\u001b[1;32m     75\u001b[0m         \u001b[0mwrapper\u001b[0m\u001b[0;34m.\u001b[0m\u001b[0m__module__\u001b[0m \u001b[0;34m=\u001b[0m \u001b[0mowner\u001b[0m\u001b[0;34m.\u001b[0m\u001b[0m__module__\u001b[0m\u001b[0;34m\u001b[0m\u001b[0;34m\u001b[0m\u001b[0m\n",
      "\u001b[0;31mTypeError\u001b[0m: set_ticks() takes 2 positional arguments but 3 were given"
     ]
    },
    {
     "data": {
      "image/png": "[encoded data removed]",
      "text/plain": [
       "<Figure size 432x288 with 1 Axes>"
      ]
     },
     "metadata": {
      "needs_background": "light"
     },
     "output_type": "display_data"
    }
   ],
   "source": [
    "labels = ['2', '3', '4', '5', '6']\n",
    "\n",
    "x = np.arange(len(y))  # the label locations\n",
    "width = 0.35  # the width of the bars\n",
    "\n",
    "fig, ax = plt.subplots()\n",
    "rects1 = ax.bar(x - width/2, y, width, label='No Pooling')\n",
    "rects2 = ax.bar(x + width/2, yP, width, label='Pooling')\n",
    "\n",
    "# Add some text for labels, title and custom x-axis tick labels, etc.\n",
    "ax.set_ylabel('Accuracy')\n",
    "ax.set_title('Accuracy by #Layers \\n and Pooling')\n",
    "ax.set_xticks(x, labels)\n",
    "ax.legend()\n",
    "\n",
    "ax.bar_label(rects1, padding=3)\n",
    "ax.bar_label(rects2, padding=3)\n",
    "\n",
    "fig.tight_layout()\n",
    "\n",
    "plt.show()"
   ]
  },
  {
   "cell_type": "code",
   "execution_count": 59,
   "id": "8a7ae098",
   "metadata": {
    "scrolled": true
   },
   "outputs": [
    {
     "data": {
      "image/png": "[encoded data removed]",
      "text/plain": [
       "<Figure size 720x432 with 2 Axes>"
      ]
     },
     "metadata": {
      "needs_background": "light"
     },
     "output_type": "display_data"
    }
   ],
   "source": [
    "font = {'family' : 'normal',\n",
    "        'weight' : 'normal',\n",
    "        'size'   : 12}\n",
    "\n",
    "plt.rc('font', **font)\n",
    "\n",
    "#plt.style.use('_mpl-gallery')\n",
    "\n",
    "# make the data\n",
    "\n",
    "# size and color:\n",
    "sizes = [60 for x in range(len(x))]\n",
    "\n",
    "# plot\n",
    "fig, ax = plt.subplots(nrows=1, ncols=2)\n",
    "\n",
    "\n",
    "ax[0].scatter(x, y, s=sizes, c=\"b\", label=\"No Pooling\")\n",
    "ax[0].scatter(x, yP, s=sizes, c=\"orange\", label=\"Pooling\")\n",
    "\n",
    "ax[0].set(xlim=(1, 7), xticks=np.arange(2, 7),\n",
    "       ylim=(0.85, 0.89), yticks=np.arange(0.85, 0.89, 0.005))\n",
    "ax[0].axhline(y=sum(y)/len(y), color='b', linewidth=2.0, linestyle='--', label='Mean (no pooling)')\n",
    "ax[0].axhline(y=sum(yP)/len(yP), color='orange', linewidth=2.0, linestyle='--', label='Mean (pooling)')\n",
    "#ax[0].xlabel(\"# Layers\")\n",
    "#.ylabel(\"Accuracy\")\n",
    "#ax[0].legend()\n",
    "#ax[0].suptitle\n",
    "\n",
    "ax[1].scatter(x, y2, s=sizes, c=\"b\", label=\"No Pooling\")\n",
    "ax[1].scatter(x, y2P, s=sizes, c=\"orange\", label=\"Pooling\")\n",
    "ax[1].set(xlim=(1, 7), xticks=np.arange(2, 7),\n",
    "       ylim=(0.18, 0.37), yticks=np.arange(0.18, 0.37, 0.02))\n",
    "ax[1].axhline(y=sum(y2)/len(y2), color='b', linewidth=2.0, linestyle='--', label='Mean (no pooling)')\n",
    "ax[1].axhline(y=sum(y2P)/len(y2P), color='orange', linewidth=2.0, linestyle='--', label='Mean (pooling)')\n",
    "#plt.xlabel(\"# Layers\")\n",
    "#plt.ylabel(\"Recall\")\n",
    "\n",
    "\n",
    "ax[0].set(xlabel='# layers', ylabel='Accuracy')\n",
    "ax[0].legend()\n",
    "ax[0].title.set_text(\"Accuracy by # layers \\n and pooling\")\n",
    "ax[1].set(xlabel='# layers', ylabel='Recall')\n",
    "ax[1].title.set_text(\"Recall by # layers \\n and pooling\")\n",
    "ax[0].legend()\n",
    "fig.set_size_inches(10, 6)\n",
    "plt.legend()\n",
    "#plt.figure(figsize=(12,3))\n",
    "plt.tight_layout()\n",
    "plt.show()\n",
    "\n"
   ]
  },
  {
   "cell_type": "code",
   "execution_count": 25,
   "id": "48b8b119",
   "metadata": {
    "scrolled": true
   },
   "outputs": [
    {
     "data": {
      "image/png": "[encoded data removed]",
      "text/plain": [
       "<Figure size 432x288 with 1 Axes>"
      ]
     },
     "metadata": {
      "needs_background": "light"
     },
     "output_type": "display_data"
    }
   ],
   "source": [
    "plt.plot(x, dy, linewidth=2.0, label=\"Accuracy difference by layer\")\n",
    "plt.plot()\n",
    "plt.legend()\n",
    "plt.show()"
   ]
  },
  {
   "cell_type": "markdown",
   "id": "e1c5b46a",
   "metadata": {},
   "source": [
    "## Effect of depth on MCC"
   ]
  },
  {
   "cell_type": "code",
   "execution_count": 11,
   "id": "69fbc63d",
   "metadata": {
    "scrolled": true
   },
   "outputs": [
    {
     "ename": "TypeError",
     "evalue": "the dtypes of parameters x (object) and width (float64) are incompatible",
     "output_type": "error",
     "traceback": [
      "\u001b[0;31m---------------------------------------------------------------------------\u001b[0m",
      "\u001b[0;31mTypeError\u001b[0m                                 Traceback (most recent call last)",
      "\u001b[0;32m/apps/system/easybuild/software/Anaconda3/2021.11/lib/python3.9/site-packages/matplotlib/axes/_axes.py\u001b[0m in \u001b[0;36mbar\u001b[0;34m(self, x, height, width, bottom, align, **kwargs)\u001b[0m\n\u001b[1;32m   2334\u001b[0m                 \u001b[0;32mtry\u001b[0m\u001b[0;34m:\u001b[0m\u001b[0;34m\u001b[0m\u001b[0;34m\u001b[0m\u001b[0m\n\u001b[0;32m-> 2335\u001b[0;31m                     \u001b[0mleft\u001b[0m \u001b[0;34m=\u001b[0m \u001b[0mx\u001b[0m \u001b[0;34m-\u001b[0m \u001b[0mwidth\u001b[0m \u001b[0;34m/\u001b[0m \u001b[0;36m2\u001b[0m\u001b[0;34m\u001b[0m\u001b[0;34m\u001b[0m\u001b[0m\n\u001b[0m\u001b[1;32m   2336\u001b[0m                 \u001b[0;32mexcept\u001b[0m \u001b[0mTypeError\u001b[0m \u001b[0;32mas\u001b[0m \u001b[0me\u001b[0m\u001b[0;34m:\u001b[0m\u001b[0;34m\u001b[0m\u001b[0;34m\u001b[0m\u001b[0m\n",
      "\u001b[0;31mTypeError\u001b[0m: unsupported operand type(s) for -: 'Rectangle' and 'float'",
      "\nThe above exception was the direct cause of the following exception:\n",
      "\u001b[0;31mTypeError\u001b[0m                                 Traceback (most recent call last)",
      "\u001b[0;32m/tmp/ipykernel_3205850/4175198135.py\u001b[0m in \u001b[0;36m<module>\u001b[0;34m\u001b[0m\n\u001b[1;32m     20\u001b[0m \u001b[0max\u001b[0m\u001b[0;34m.\u001b[0m\u001b[0mlegend\u001b[0m\u001b[0;34m(\u001b[0m\u001b[0mloc\u001b[0m\u001b[0;34m=\u001b[0m\u001b[0;34m'lower center'\u001b[0m\u001b[0;34m)\u001b[0m\u001b[0;34m\u001b[0m\u001b[0;34m\u001b[0m\u001b[0m\n\u001b[1;32m     21\u001b[0m \u001b[0;34m\u001b[0m\u001b[0m\n\u001b[0;32m---> 22\u001b[0;31m \u001b[0max\u001b[0m\u001b[0;34m.\u001b[0m\u001b[0mbar\u001b[0m\u001b[0;34m(\u001b[0m\u001b[0mrects1\u001b[0m\u001b[0;34m,\u001b[0m \u001b[0my\u001b[0m\u001b[0;34m,\u001b[0m \u001b[0mpadding\u001b[0m\u001b[0;34m=\u001b[0m\u001b[0;36m3\u001b[0m\u001b[0;34m)\u001b[0m\u001b[0;34m\u001b[0m\u001b[0;34m\u001b[0m\u001b[0m\n\u001b[0m\u001b[1;32m     23\u001b[0m \u001b[0max\u001b[0m\u001b[0;34m.\u001b[0m\u001b[0mbar\u001b[0m\u001b[0;34m(\u001b[0m\u001b[0mrects2\u001b[0m\u001b[0;34m,\u001b[0m \u001b[0myP\u001b[0m\u001b[0;34m,\u001b[0m \u001b[0mpadding\u001b[0m\u001b[0;34m=\u001b[0m\u001b[0;36m3\u001b[0m\u001b[0;34m)\u001b[0m\u001b[0;34m\u001b[0m\u001b[0;34m\u001b[0m\u001b[0m\n\u001b[1;32m     24\u001b[0m \u001b[0;34m\u001b[0m\u001b[0m\n",
      "\u001b[0;32m/apps/system/easybuild/software/Anaconda3/2021.11/lib/python3.9/site-packages/matplotlib/__init__.py\u001b[0m in \u001b[0;36minner\u001b[0;34m(ax, data, *args, **kwargs)\u001b[0m\n\u001b[1;32m   1359\u001b[0m     \u001b[0;32mdef\u001b[0m \u001b[0minner\u001b[0m\u001b[0;34m(\u001b[0m\u001b[0max\u001b[0m\u001b[0;34m,\u001b[0m \u001b[0;34m*\u001b[0m\u001b[0margs\u001b[0m\u001b[0;34m,\u001b[0m \u001b[0mdata\u001b[0m\u001b[0;34m=\u001b[0m\u001b[0;32mNone\u001b[0m\u001b[0;34m,\u001b[0m \u001b[0;34m**\u001b[0m\u001b[0mkwargs\u001b[0m\u001b[0;34m)\u001b[0m\u001b[0;34m:\u001b[0m\u001b[0;34m\u001b[0m\u001b[0;34m\u001b[0m\u001b[0m\n\u001b[1;32m   1360\u001b[0m         \u001b[0;32mif\u001b[0m \u001b[0mdata\u001b[0m \u001b[0;32mis\u001b[0m \u001b[0;32mNone\u001b[0m\u001b[0;34m:\u001b[0m\u001b[0;34m\u001b[0m\u001b[0;34m\u001b[0m\u001b[0m\n\u001b[0;32m-> 1361\u001b[0;31m             \u001b[0;32mreturn\u001b[0m \u001b[0mfunc\u001b[0m\u001b[0;34m(\u001b[0m\u001b[0max\u001b[0m\u001b[0;34m,\u001b[0m \u001b[0;34m*\u001b[0m\u001b[0mmap\u001b[0m\u001b[0;34m(\u001b[0m\u001b[0msanitize_sequence\u001b[0m\u001b[0;34m,\u001b[0m \u001b[0margs\u001b[0m\u001b[0;34m)\u001b[0m\u001b[0;34m,\u001b[0m \u001b[0;34m**\u001b[0m\u001b[0mkwargs\u001b[0m\u001b[0;34m)\u001b[0m\u001b[0;34m\u001b[0m\u001b[0;34m\u001b[0m\u001b[0m\n\u001b[0m\u001b[1;32m   1362\u001b[0m \u001b[0;34m\u001b[0m\u001b[0m\n\u001b[1;32m   1363\u001b[0m         \u001b[0mbound\u001b[0m \u001b[0;34m=\u001b[0m \u001b[0mnew_sig\u001b[0m\u001b[0;34m.\u001b[0m\u001b[0mbind\u001b[0m\u001b[0;34m(\u001b[0m\u001b[0max\u001b[0m\u001b[0;34m,\u001b[0m \u001b[0;34m*\u001b[0m\u001b[0margs\u001b[0m\u001b[0;34m,\u001b[0m \u001b[0;34m**\u001b[0m\u001b[0mkwargs\u001b[0m\u001b[0;34m)\u001b[0m\u001b[0;34m\u001b[0m\u001b[0;34m\u001b[0m\u001b[0m\n",
      "\u001b[0;32m/apps/system/easybuild/software/Anaconda3/2021.11/lib/python3.9/site-packages/matplotlib/axes/_axes.py\u001b[0m in \u001b[0;36mbar\u001b[0;34m(self, x, height, width, bottom, align, **kwargs)\u001b[0m\n\u001b[1;32m   2335\u001b[0m                     \u001b[0mleft\u001b[0m \u001b[0;34m=\u001b[0m \u001b[0mx\u001b[0m \u001b[0;34m-\u001b[0m \u001b[0mwidth\u001b[0m \u001b[0;34m/\u001b[0m \u001b[0;36m2\u001b[0m\u001b[0;34m\u001b[0m\u001b[0;34m\u001b[0m\u001b[0m\n\u001b[1;32m   2336\u001b[0m                 \u001b[0;32mexcept\u001b[0m \u001b[0mTypeError\u001b[0m \u001b[0;32mas\u001b[0m \u001b[0me\u001b[0m\u001b[0;34m:\u001b[0m\u001b[0;34m\u001b[0m\u001b[0;34m\u001b[0m\u001b[0m\n\u001b[0;32m-> 2337\u001b[0;31m                     raise TypeError(f'the dtypes of parameters x ({x.dtype}) '\n\u001b[0m\u001b[1;32m   2338\u001b[0m                                     \u001b[0;34mf'and width ({width.dtype}) '\u001b[0m\u001b[0;34m\u001b[0m\u001b[0;34m\u001b[0m\u001b[0m\n\u001b[1;32m   2339\u001b[0m                                     f'are incompatible') from e\n",
      "\u001b[0;31mTypeError\u001b[0m: the dtypes of parameters x (object) and width (float64) are incompatible"
     ]
    },
    {
     "data": {
      "image/png": "[encoded data removed]",
      "text/plain": [
       "<Figure size 432x288 with 1 Axes>"
      ]
     },
     "metadata": {
      "needs_background": "light"
     },
     "output_type": "display_data"
    }
   ],
   "source": [
    "names = ['2', '3', '4', '5', '6']\n",
    "y = best['MCC']\n",
    "yP = bestP['MCC']\n",
    "\n",
    "\n",
    "x = np.arange(len(y))  # the label locations\n",
    "width = 0.35  # the width of the bars\n",
    "\n",
    "fig, ax = plt.subplots()\n",
    "rects1 = ax.bar(x - width/2, y, width, label='No Pooling')\n",
    "rects2 = ax.bar(x + width/2, yP, width, label='Pooling')\n",
    "\n",
    "# Add some text for labels, title and custom x-axis tick labels, etc.\n",
    "ax.set_ylabel('MCC')\n",
    "ax.set_xlabel('# Layers')\n",
    "ax.set_title('MCC by #Layers \\n and Pooling')\n",
    "ax.set_xticks(x)\n",
    "ax.set_xticklabels(names)\n",
    "ax.set\n",
    "ax.legend(loc='lower center')\n",
    "\n",
    "ax.bar(rects1, y, padding=3)\n",
    "ax.bar(rects2, yP, padding=3)\n",
    "\n",
    "fig.tight_layout()\n",
    "\n",
    "plt.show()"
   ]
  }
 ],
 "metadata": {
  "kernelspec": {
   "display_name": "Python 3 (ipykernel)",
   "language": "python",
   "name": "python3"
  },
  "language_info": {
   "codemirror_mode": {
    "name": "ipython",
    "version": 3
   },
   "file_extension": ".py",
   "mimetype": "text/x-python",
   "name": "python",
   "nbconvert_exporter": "python",
   "pygments_lexer": "ipython3",
   "version": "3.9.7"
  }
 },
 "nbformat": 4,
 "nbformat_minor": 5
}
