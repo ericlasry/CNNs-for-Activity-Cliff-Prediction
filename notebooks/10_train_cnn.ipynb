{
  "cells": [
    {
      "cell_type": "markdown",
      "metadata": {
        "id": "3-Q3RTpL5XiH"
      },
      "source": [
        "## Imports"
      ]
    },
    {
      "cell_type": "code",
      "execution_count": 1,
      "metadata": {
        "id": "fl5NdxO64xAM"
      },
      "outputs": [],
      "source": [
        "import numpy as np\n",
        "import tensorflow as tf\n",
        "\n",
        "from tensorflow.keras.layers import Conv2D, Dense, MaxPooling2D, InputLayer, Flatten, Dropout\n",
        "from tensorflow.keras.models import Sequential, Model\n",
        "from tensorflow.keras.optimizers import Adam\n",
        "from  matplotlib import pyplot as plt\n",
        "\n",
        "from superpac. base import onehot"
      ]
    },
    {
      "cell_type": "code",
      "execution_count": 5,
      "metadata": {
        "colab": {
          "base_uri": "https://localhost:8080/"
        },
        "id": "QWORBjex73_l",
        "outputId": "205ca681-d95b-4367-86b1-af767b1ca204"
      },
      "outputs": [
        {
          "name": "stdout",
          "output_type": "stream",
          "text": [
            "Drive already mounted at /content/drive; to attempt to forcibly remount, call drive.mount(\"/content/drive\", force_remount=True).\n"
          ]
        }
      ],
      "source": [
        "## UNCOMMENT IN COLAB\n",
        "\"\"\"\n",
        "from google.colab import drive\n",
        "drive.mount('/content/drive')\n",
        "\n",
        "import sys\n",
        "sys.path.insert(0,\"/content/drive/My Drive/Colab Notebooks\")\n",
        "\"\"\""
      ]
    },
    {
      "cell_type": "markdown",
      "metadata": {},
      "source": [
        "## Load Data"
      ]
    },
    {
      "cell_type": "code",
      "execution_count": 7,
      "metadata": {
        "id": "4na0Myw_iVxq"
      },
      "outputs": [],
      "source": [
        "# Load full split dataset\n",
        "train_X = np.load(\"../split_datasets/train_X_frag_200.npy\")\n",
        "train_y = np.load(\"../split_datasets/train_y_frag_200.npy\")\n",
        "test_X = np.load(\"../split_datasets/test_X_frag_200.npy\")\n",
        "test_y = np.load(\"../split_datasets/test_y_frag_200.npy\")\n",
        "\n",
        "train_y = np.array(onehot(train_y))\n",
        "test_y = np.array(onehot(test_y))\n",
        "\n",
        "IM_HEIGHT=200\n",
        "IM_WIDTH=600"
      ]
    },
    {
      "cell_type": "markdown",
      "metadata": {
        "id": "umyw4An05Q9i"
      },
      "source": [
        "# Train Model"
      ]
    },
    {
      "cell_type": "code",
      "execution_count": null,
      "metadata": {},
      "outputs": [],
      "source": [
        "lr = 0.00001\n",
        "num_epochs=30\n",
        "\n",
        "model = Sequential([\n",
        "            InputLayer(input_shape=(im_height, im_width, 3)),\n",
        "            Conv2D(filters=32, kernel_size=3, activation='relu'),\n",
        "            Conv2D(filters=32, kernel_size=5, activation='relu'),\n",
        "            #MaxPooling2D((2,2)),\n",
        "            #Conv2D(filters=32, kernel_size=5, activation='relu'),\n",
        "            #Conv2D(filters=32, kernel_size=5, activation='relu'),\n",
        "            #MaxPooling2D((2,2)),\n",
        "            Dropout(0.4),\n",
        "            Flatten(),\n",
        "            Dense(32, activation='linear'),\n",
        "            Dense(2, activation='sigmoid')\n",
        "            ])\n",
        "opt = Adam(learning_rate= 0.00001)\n",
        "model.compile(optimizer=opt, loss='binary_crossentropy', metrics=['accuracy',tf.keras.metrics.Precision()])\n",
        "\n",
        "\n",
        "history = model.fit(\n",
        "    x = train_X,\n",
        "    y = train_y,\n",
        "    verbose = 2,\n",
        "    validation_data=(test_X, test_y),\n",
        "    epochs = num_epochs\n",
        "    )\n"
      ]
    },
    {
      "cell_type": "code",
      "execution_count": null,
      "metadata": {},
      "outputs": [],
      "source": [
        "model.save('./model_001')"
      ]
    }
  ],
  "metadata": {
    "accelerator": "GPU",
    "colab": {
      "collapsed_sections": [
        "ryHiPjqq4-tt"
      ],
      "machine_shape": "hm",
      "name": "train_CNN1 colab.ipynb",
      "provenance": []
    },
    "interpreter": {
      "hash": "7e388574e17f6ca23220748dcaf3cb6a0c720f59460015cbd99ab8654b7febd3"
    },
    "kernelspec": {
      "display_name": "Python 3.8.3 ('base')",
      "language": "python",
      "name": "python3"
    },
    "language_info": {
      "codemirror_mode": {
        "name": "ipython",
        "version": 3
      },
      "file_extension": ".py",
      "mimetype": "text/x-python",
      "name": "python",
      "nbconvert_exporter": "python",
      "pygments_lexer": "ipython3",
      "version": "3.8.3"
    },
    "orig_nbformat": 4
  },
  "nbformat": 4,
  "nbformat_minor": 0
}
