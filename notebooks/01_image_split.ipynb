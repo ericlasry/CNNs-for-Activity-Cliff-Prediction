{
 "cells": [
  {
   "cell_type": "markdown",
   "metadata": {},
   "source": [
    "## Imports"
   ]
  },
  {
   "cell_type": "code",
   "execution_count": 3,
   "metadata": {},
   "outputs": [],
   "source": [
    "import numpy as np\n",
    "import pandas as pd\n",
    "import random\n",
    "\n",
    "from superpac. base import create_dataset, get_split_mmp_indices"
   ]
  },
  {
   "cell_type": "markdown",
   "metadata": {},
   "source": [
    "## Load data\n",
    "\n",
    "Gets pKi values for each MMP to obtain images, classes, and regression values along with <code>mmp_ixs</code> which gives the relationship between MMP number and indexing of the previous objects."
   ]
  },
  {
   "cell_type": "code",
   "execution_count": 5,
   "metadata": {},
   "outputs": [
    {
     "name": "stdout",
     "output_type": "stream",
     "text": [
      "rm: ./+folder+/.DS_Store: No such file or directory\n"
     ]
    }
   ],
   "source": [
    "folder = \"ims_frag_200_a\"\n",
    "suffix = \"frag_200_a.npy\"\n",
    "\n",
    "im_height = 200\n",
    "im_width = 600\n",
    "num_augs = 4\n",
    "\n",
    "! rm \"../ims_frag_200_a/.DS_Store\"\n",
    "! rm \"../ims_frag_200_a/0/.DS_Store\"\n",
    "! rm \"../ims_frag_200_a/1/.DS_Store\"\n",
    "\n",
    "\n",
    "val_df = pd.read_csv(\"../smiles_and_labels/Y_mmps_vals.csv\", header=None)\n",
    "mmp_ixs, im_array, class_array, reg_values = create_dataset(\"../\"+folder, im_height, im_width, val_df)"
   ]
  },
  {
   "cell_type": "markdown",
   "metadata": {},
   "source": [
    "## Regular dataset"
   ]
  },
  {
   "cell_type": "code",
   "execution_count": 5,
   "metadata": {},
   "outputs": [],
   "source": [
    "num_augs=4\n",
    "ds_size = 15787 * num_augs\n",
    "zero_out, one_out, two_out = get_split_mmp_indices(\"../ixs_for_splits\", ds_size)\n",
    "\n",
    "zero_ixs = []\n",
    "one_ixs = []\n",
    "two_ixs = []\n",
    "\n",
    "for mmp_id in zero_out:\n",
    "    ix_list = mmp_ixs[mmp_id]\n",
    "    zero_ixs = zero_ixs + ix_list\n",
    "\n",
    "for mmp_id in one_out:\n",
    "    ix_list = mmp_ixs[mmp_id]\n",
    "    one_ixs = one_ixs + ix_list\n",
    "    \n",
    "for mmp_id in two_out:\n",
    "    ix_list = mmp_ixs[mmp_id]\n",
    "    two_ixs = two_ixs + ix_list"
   ]
  },
  {
   "cell_type": "code",
   "execution_count": 8,
   "metadata": {},
   "outputs": [],
   "source": [
    "ixs = {\n",
    "    \"train\":zero_ixs,\n",
    "    \"one_out\":one_ixs,\n",
    "    \"test\":two_ixs\n",
    "}\n",
    "\n",
    "for x in [\"train\", \"one_out\", \"test\"]:\n",
    "    x_ix = ixs[x]\n",
    "    \n",
    "    X = im_array[x_ix,:,:,:]\n",
    "    y = class_array[x_ix]\n",
    "    yr = reg_values[x_ix]\n",
    "    \n",
    "    np.save(\"../split_datasets/\"+x+\"_X_\"+suffix, X)\n",
    "    np.save(\"../split_datasets/\"+x+\"_y_\"+suffix, y)\n",
    "    np.save(\"../split_datasets/\"+x+\"_yr_\"+suffix, yr)\n",
    "    del X, y, yr"
   ]
  },
  {
   "cell_type": "markdown",
   "metadata": {},
   "source": [
    "## Undersampled dataset"
   ]
  },
  {
   "cell_type": "code",
   "execution_count": null,
   "metadata": {},
   "outputs": [],
   "source": [
    "train_X = np.load(\"../split_datasets/train_X_frag_200.npy\")\n",
    "train_y = np.load(\"../split_datasets/train_y_frag_200.npy\")\n",
    "test_X = np.load(\"../split_datasets/test_X_frag_200.npy\")\n",
    "test_y = np.load(\"../split_datasets/test_y_frag_200.npy\")\n"
   ]
  },
  {
   "cell_type": "markdown",
   "metadata": {},
   "source": [
    "### Relationship between ejection probability and class imbalance"
   ]
  },
  {
   "cell_type": "code",
   "execution_count": null,
   "metadata": {},
   "outputs": [],
   "source": [
    "# Count ACs in unchanged set\n",
    "s=0\n",
    "for c,v in enumerate(test_y):\n",
    "   if v==1: s+=1\n",
    "s"
   ]
  },
  {
   "cell_type": "code",
   "execution_count": null,
   "metadata": {},
   "outputs": [],
   "source": [
    "# AC proportion : Eject probability [given 741 out of 7089 ACs in train; ]\n",
    "# 0.104 : 0\n",
    "# 0.2 : 0.533\n",
    "# 0.3 : 0.728\n",
    "# 0.4 : 0.825\n",
    "# 0.5 : 0.883\n",
    "\n",
    "# Want to impose this ejection probability and maintain 80/20 train/test split.\n",
    "# \n",
    "eject_p_dict = {\n",
    "    0.2:0.533,\n",
    "    0.3:0.728,\n",
    "    0.4:0.825,\n",
    "    0.5:0.883,\n",
    "}\n",
    "for x in eject_p_dict:\n",
    "    print(x)"
   ]
  },
  {
   "cell_type": "markdown",
   "metadata": {},
   "source": [
    "### Subsampling"
   ]
  },
  {
   "cell_type": "code",
   "execution_count": null,
   "metadata": {},
   "outputs": [],
   "source": [
    "for t in eject_p_dict:\n",
    "    suffix = str(int(10*t))\n",
    "    \n",
    "    print(suffix)\n",
    "    # Keep positives, keep negatives with probability (1 - eject_p)\n",
    "    eject_p = eject_p_dict[t]\n",
    "    keep_ix_train = []\n",
    "    keep_ix_test = []\n",
    "    for c,v in enumerate(train_y):\n",
    "        if v==0:\n",
    "            r = random.random()\n",
    "            if r > eject_p : keep_ix_train.append(c)\n",
    "        else: keep_ix_train.append(c)\n",
    "    for c,v in enumerate(test_y):\n",
    "        if v==0:\n",
    "            r = random.random()\n",
    "            if r > eject_p : keep_ix_test.append(c)\n",
    "        else: keep_ix_test.append(c)\n",
    "\n",
    "    # Save as _sub_(pos frequency)\n",
    "    train_X_sample, train_y_sample = train_X[keep_ix_train], train_y[keep_ix_train]\n",
    "    np.save(\"../data_split/train_X_sub_\"+suffix+\".npy\", train_X_sample)\n",
    "    np.save(\"../data_split/train_y_sub_\"+suffix+\".npy\", train_y_sample)\n",
    "    del train_X_sample, train_y_sample\n",
    "    test_X_sample, test_y_sample  = test_X[keep_ix_test], test_y[keep_ix_test]  \n",
    "    np.save(\"../data_split/test_X_sub_\"+suffix+\".npy\", test_X_sample)\n",
    "    np.save(\"../data_split/test_y_sub_\"+suffix+\".npy\", test_y_sample)\n",
    "    del test_X_sample, test_y_sample"
   ]
  }
 ],
 "metadata": {
  "interpreter": {
   "hash": "7e388574e17f6ca23220748dcaf3cb6a0c720f59460015cbd99ab8654b7febd3"
  },
  "kernelspec": {
   "display_name": "Python 3.8.3 ('base')",
   "language": "python",
   "name": "python3"
  },
  "language_info": {
   "codemirror_mode": {
    "name": "ipython",
    "version": 3
   },
   "file_extension": ".py",
   "mimetype": "text/x-python",
   "name": "python",
   "nbconvert_exporter": "python",
   "pygments_lexer": "ipython3",
   "version": "3.8.3"
  },
  "orig_nbformat": 4
 },
 "nbformat": 4,
 "nbformat_minor": 2
}
