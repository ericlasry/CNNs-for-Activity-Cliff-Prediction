{
 "cells": [
  {
   "cell_type": "markdown",
   "metadata": {},
   "source": [
    "Here we use SMILES of MMP fragments to generate and store a 498-bit MACCS keys-based encoding of MMPs."
   ]
  },
  {
   "cell_type": "code",
   "execution_count": 2,
   "metadata": {},
   "outputs": [],
   "source": [
    "import numpy as np\n",
    "import pandas as pd\n",
    "from tqdm import tqdm\n",
    "from rdkit import Chem\n",
    "\n",
    "from superpac. rdkit import get_fingerprint_encoding_df"
   ]
  },
  {
   "cell_type": "code",
   "execution_count": 4,
   "metadata": {},
   "outputs": [],
   "source": [
    "# Fragmented MMPs\n",
    "smiles = pd.read_csv('./smiles_and_labels/X_smiles_vcvs.csv', header=None)\n",
    "is_AC = pd.read_csv('./smiles_and_labels/y_mmps.csv', header=None)[0]\n",
    "\n",
    "pKi_df = pd.read_csv(\"./smiles_and_labels/Y_mmps_vals.csv\", header=None)\n",
    "pKi_diff = abs(pKi_df[0] - pKi_df[1]).astype('float32')"
   ]
  },
  {
   "cell_type": "code",
   "execution_count": 27,
   "metadata": {},
   "outputs": [],
   "source": [
    "maccs_df = get_fingerprint_encoding_df(smiles)\n",
    "maccs_df['is_AC'] = is_AC\n",
    "maccs_df['pKi_diff'] = pKi_diff\n",
    "\n",
    "maccs_df.to_csv('./MACCS_keys/MACCS_encoding.csv', index=None)"
   ]
  }
 ],
 "metadata": {
  "interpreter": {
   "hash": "08ba950da9696e4e65b4205782e9ced0c9f0674369c4f00e4d8594d2ae2f665a"
  },
  "kernelspec": {
   "display_name": "Python 3.9.9 ('my-rdkit-env')",
   "language": "python",
   "name": "python3"
  },
  "language_info": {
   "codemirror_mode": {
    "name": "ipython",
    "version": 3
   },
   "file_extension": ".py",
   "mimetype": "text/x-python",
   "name": "python",
   "nbconvert_exporter": "python",
   "pygments_lexer": "ipython3",
   "version": "3.9.9"
  },
  "orig_nbformat": 4
 },
 "nbformat": 4,
 "nbformat_minor": 2
}
