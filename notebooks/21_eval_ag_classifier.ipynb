{
 "cells": [
  {
   "cell_type": "markdown",
   "metadata": {},
   "source": [
    "## Imports"
   ]
  },
  {
   "cell_type": "code",
   "execution_count": 1,
   "metadata": {},
   "outputs": [],
   "source": [
    "import numpy as np\n",
    "import pandas as pd\n",
    "import matplotlib.pyplot as plt\n",
    "from tqdm import tqdm\n",
    "import re\n",
    "import tensorflow as tf\n",
    "from autogluon.tabular import TabularPredictor\n",
    "\n",
    "# To explicitly run on CPU:\n",
    "#tf.config.set_visible_devices([], 'GPU')\n",
    "\n",
    "from superpac. base import get_split_mmp_indices\n",
    "from superpac. eval import get_ag_metrics"
   ]
  },
  {
   "cell_type": "markdown",
   "metadata": {},
   "source": [
    "## Load data and classifier"
   ]
  },
  {
   "cell_type": "code",
   "execution_count": 3,
   "metadata": {},
   "outputs": [],
   "source": [
    "full_df = pd.read_csv('./MACCS_keys/MACCS_frag_df.csv')\n",
    "\n",
    "ds_size = len(full_df)\n",
    "zero_out, one_out, two_out = get_split_mmp_indices(\"./index sets for train test split\", ds_size)\n",
    "fulltest_ixs = one_out+two_out\n",
    "\n",
    "\n",
    "zero_out_df = full_df.iloc[zero_out]\n",
    "two_out_df = full_df.iloc[two_out]\n",
    "one_out_df = full_df.iloc[one_out]\n",
    "fulltest_df = full_df.iloc[fulltest_ixs]\n",
    "\n",
    "train_data = zero_out_df.drop('pKi_diff', axis=1)\n",
    "test_data = two_out_df.drop('pKi_diff', axis=1)\n",
    "one_data = one_out_df.drop('pKi_diff', axis=1)\n",
    "fulltest_data = fulltest_df.drop('pKi_diff', axis=1)\n",
    "\n",
    "label = 'is_AC'\n",
    "\n",
    "\n",
    "y_train = train_data[label]\n",
    "y_test = test_data[label]\n",
    "y_one = one_data[label]\n",
    "y_fulltest = fulltest_data[label]\n",
    "\n",
    "X_train = pd.DataFrame(train_data.drop(columns=[label]))\n",
    "X_test = pd.DataFrame(test_data.drop(columns=[label]))\n",
    "X_one = pd.DataFrame(one_data.drop(columns=[label]))\n",
    "X_fulltest = pd.DataFrame(fulltest_data.drop(columns=[label]))"
   ]
  },
  {
   "cell_type": "code",
   "execution_count": 5,
   "metadata": {},
   "outputs": [],
   "source": [
    "predictor = TabularPredictor.load(\"./agClassifier\")"
   ]
  },
  {
   "cell_type": "markdown",
   "metadata": {},
   "source": [
    "## Evaluation metrics on test set \n",
    "\n",
    "For evaluation on full set, replace <code>test_data</code> by <code>fulltest_data</code>."
   ]
  },
  {
   "cell_type": "code",
   "execution_count": 12,
   "metadata": {},
   "outputs": [],
   "source": [
    "# Metrics data for test set only\n",
    "\n",
    "metrics_data = []\n",
    "for m in predictor.get_model_names():\n",
    "    predictor.set_model_best(m)\n",
    "\n",
    "    m_metrics = get_ag_metrics(predictor, test_data)\n",
    "    m_metrics.insert(0, m)\n",
    "\n",
    "    metrics_data.append(m_metrics)\n",
    "\n",
    "metrics = pd.DataFrame(metrics_data, columns=['Model','Accuracy','Precision','Recall','Specificity','F1', 'MCC'])\n",
    "metrics.to_csv('ag_metrics.csv', index=None)\n"
   ]
  },
  {
   "cell_type": "code",
   "execution_count": 13,
   "metadata": {},
   "outputs": [],
   "source": [
    "metrics = pd.read_csv('ag_metrics.csv')"
   ]
  },
  {
   "cell_type": "code",
   "execution_count": 15,
   "metadata": {},
   "outputs": [
    {
     "data": {
      "text/html": [
       "<style type=\"text/css\">\n",
       "#T_cd736_row2_col1, #T_cd736_row2_col2, #T_cd736_row2_col4, #T_cd736_row7_col0, #T_cd736_row7_col5, #T_cd736_row7_col6, #T_cd736_row9_col3 {\n",
       "  background-color: darkgreen;\n",
       "}\n",
       "</style>\n",
       "<table id=\"T_cd736_\">\n",
       "  <thead>\n",
       "    <tr>\n",
       "      <th class=\"blank level0\" >&nbsp;</th>\n",
       "      <th class=\"col_heading level0 col0\" >Model</th>\n",
       "      <th class=\"col_heading level0 col1\" >Accuracy</th>\n",
       "      <th class=\"col_heading level0 col2\" >Precision</th>\n",
       "      <th class=\"col_heading level0 col3\" >Recall</th>\n",
       "      <th class=\"col_heading level0 col4\" >Specificity</th>\n",
       "      <th class=\"col_heading level0 col5\" >F1</th>\n",
       "      <th class=\"col_heading level0 col6\" >MCC</th>\n",
       "    </tr>\n",
       "  </thead>\n",
       "  <tbody>\n",
       "    <tr>\n",
       "      <th id=\"T_cd736_level0_row0\" class=\"row_heading level0 row0\" >0</th>\n",
       "      <td id=\"T_cd736_row0_col0\" class=\"data row0 col0\" >RandomForestGini_BAG_L1</td>\n",
       "      <td id=\"T_cd736_row0_col1\" class=\"data row0 col1\" >0.910324</td>\n",
       "      <td id=\"T_cd736_row0_col2\" class=\"data row0 col2\" >0.690598</td>\n",
       "      <td id=\"T_cd736_row0_col3\" class=\"data row0 col3\" >0.402792</td>\n",
       "      <td id=\"T_cd736_row0_col4\" class=\"data row0 col4\" >0.976478</td>\n",
       "      <td id=\"T_cd736_row0_col5\" class=\"data row0 col5\" >0.508816</td>\n",
       "      <td id=\"T_cd736_row0_col6\" class=\"data row0 col6\" >0.483654</td>\n",
       "    </tr>\n",
       "    <tr>\n",
       "      <th id=\"T_cd736_level0_row1\" class=\"row_heading level0 row1\" >1</th>\n",
       "      <td id=\"T_cd736_row1_col0\" class=\"data row1 col0\" >RandomForestEntr_BAG_L1</td>\n",
       "      <td id=\"T_cd736_row1_col1\" class=\"data row1 col1\" >0.910899</td>\n",
       "      <td id=\"T_cd736_row1_col2\" class=\"data row1 col2\" >0.697232</td>\n",
       "      <td id=\"T_cd736_row1_col3\" class=\"data row1 col3\" >0.401795</td>\n",
       "      <td id=\"T_cd736_row1_col4\" class=\"data row1 col4\" >0.977258</td>\n",
       "      <td id=\"T_cd736_row1_col5\" class=\"data row1 col5\" >0.509804</td>\n",
       "      <td id=\"T_cd736_row1_col6\" class=\"data row1 col6\" >0.486085</td>\n",
       "    </tr>\n",
       "    <tr>\n",
       "      <th id=\"T_cd736_level0_row2\" class=\"row_heading level0 row2\" >2</th>\n",
       "      <td id=\"T_cd736_row2_col0\" class=\"data row2 col0\" >CatBoost_BAG_L1</td>\n",
       "      <td id=\"T_cd736_row2_col1\" class=\"data row2 col1\" >0.913888</td>\n",
       "      <td id=\"T_cd736_row2_col2\" class=\"data row2 col2\" >0.760246</td>\n",
       "      <td id=\"T_cd736_row2_col3\" class=\"data row2 col3\" >0.369890</td>\n",
       "      <td id=\"T_cd736_row2_col4\" class=\"data row2 col4\" >0.984795</td>\n",
       "      <td id=\"T_cd736_row2_col5\" class=\"data row2 col5\" >0.497653</td>\n",
       "      <td id=\"T_cd736_row2_col6\" class=\"data row2 col6\" >0.492285</td>\n",
       "    </tr>\n",
       "    <tr>\n",
       "      <th id=\"T_cd736_level0_row3\" class=\"row_heading level0 row3\" >3</th>\n",
       "      <td id=\"T_cd736_row3_col0\" class=\"data row3 col0\" >ExtraTreesGini_BAG_L1</td>\n",
       "      <td id=\"T_cd736_row3_col1\" class=\"data row3 col1\" >0.911244</td>\n",
       "      <td id=\"T_cd736_row3_col2\" class=\"data row3 col2\" >0.698795</td>\n",
       "      <td id=\"T_cd736_row3_col3\" class=\"data row3 col3\" >0.404786</td>\n",
       "      <td id=\"T_cd736_row3_col4\" class=\"data row3 col4\" >0.977258</td>\n",
       "      <td id=\"T_cd736_row3_col5\" class=\"data row3 col5\" >0.512626</td>\n",
       "      <td id=\"T_cd736_row3_col6\" class=\"data row3 col6\" >0.488744</td>\n",
       "    </tr>\n",
       "    <tr>\n",
       "      <th id=\"T_cd736_level0_row4\" class=\"row_heading level0 row4\" >4</th>\n",
       "      <td id=\"T_cd736_row4_col0\" class=\"data row4 col0\" >ExtraTreesEntr_BAG_L1</td>\n",
       "      <td id=\"T_cd736_row4_col1\" class=\"data row4 col1\" >0.911244</td>\n",
       "      <td id=\"T_cd736_row4_col2\" class=\"data row4 col2\" >0.700870</td>\n",
       "      <td id=\"T_cd736_row4_col3\" class=\"data row4 col3\" >0.401795</td>\n",
       "      <td id=\"T_cd736_row4_col4\" class=\"data row4 col4\" >0.977648</td>\n",
       "      <td id=\"T_cd736_row4_col5\" class=\"data row4 col5\" >0.510773</td>\n",
       "      <td id=\"T_cd736_row4_col6\" class=\"data row4 col6\" >0.487763</td>\n",
       "    </tr>\n",
       "    <tr>\n",
       "      <th id=\"T_cd736_level0_row5\" class=\"row_heading level0 row5\" >5</th>\n",
       "      <td id=\"T_cd736_row5_col0\" class=\"data row5 col0\" >NeuralNetFastAI_BAG_L1</td>\n",
       "      <td id=\"T_cd736_row5_col1\" class=\"data row5 col1\" >0.905496</td>\n",
       "      <td id=\"T_cd736_row5_col2\" class=\"data row5 col2\" >0.656304</td>\n",
       "      <td id=\"T_cd736_row5_col3\" class=\"data row5 col3\" >0.378863</td>\n",
       "      <td id=\"T_cd736_row5_col4\" class=\"data row5 col4\" >0.974139</td>\n",
       "      <td id=\"T_cd736_row5_col5\" class=\"data row5 col5\" >0.480405</td>\n",
       "      <td id=\"T_cd736_row5_col6\" class=\"data row5 col6\" >0.452316</td>\n",
       "    </tr>\n",
       "    <tr>\n",
       "      <th id=\"T_cd736_level0_row6\" class=\"row_heading level0 row6\" >6</th>\n",
       "      <td id=\"T_cd736_row6_col0\" class=\"data row6 col0\" >NeuralNetTorch_BAG_L1</td>\n",
       "      <td id=\"T_cd736_row6_col1\" class=\"data row6 col1\" >0.909864</td>\n",
       "      <td id=\"T_cd736_row6_col2\" class=\"data row6 col2\" >0.653147</td>\n",
       "      <td id=\"T_cd736_row6_col3\" class=\"data row6 col3\" >0.465603</td>\n",
       "      <td id=\"T_cd736_row6_col4\" class=\"data row6 col4\" >0.967771</td>\n",
       "      <td id=\"T_cd736_row6_col5\" class=\"data row6 col5\" >0.543655</td>\n",
       "      <td id=\"T_cd736_row6_col6\" class=\"data row6 col6\" >0.503944</td>\n",
       "    </tr>\n",
       "    <tr>\n",
       "      <th id=\"T_cd736_level0_row7\" class=\"row_heading level0 row7\" >7</th>\n",
       "      <td id=\"T_cd736_row7_col0\" class=\"data row7 col0\" >RandomForestGini_BAG_L2</td>\n",
       "      <td id=\"T_cd736_row7_col1\" class=\"data row7 col1\" >0.913198</td>\n",
       "      <td id=\"T_cd736_row7_col2\" class=\"data row7 col2\" >0.680758</td>\n",
       "      <td id=\"T_cd736_row7_col3\" class=\"data row7 col3\" >0.465603</td>\n",
       "      <td id=\"T_cd736_row7_col4\" class=\"data row7 col4\" >0.971540</td>\n",
       "      <td id=\"T_cd736_row7_col5\" class=\"data row7 col5\" >0.552990</td>\n",
       "      <td id=\"T_cd736_row7_col6\" class=\"data row7 col6\" >0.518019</td>\n",
       "    </tr>\n",
       "    <tr>\n",
       "      <th id=\"T_cd736_level0_row8\" class=\"row_heading level0 row8\" >8</th>\n",
       "      <td id=\"T_cd736_row8_col0\" class=\"data row8 col0\" >RandomForestEntr_BAG_L2</td>\n",
       "      <td id=\"T_cd736_row8_col1\" class=\"data row8 col1\" >0.912049</td>\n",
       "      <td id=\"T_cd736_row8_col2\" class=\"data row8 col2\" >0.675000</td>\n",
       "      <td id=\"T_cd736_row8_col3\" class=\"data row8 col3\" >0.457627</td>\n",
       "      <td id=\"T_cd736_row8_col4\" class=\"data row8 col4\" >0.971280</td>\n",
       "      <td id=\"T_cd736_row8_col5\" class=\"data row8 col5\" >0.545455</td>\n",
       "      <td id=\"T_cd736_row8_col6\" class=\"data row8 col6\" >0.510306</td>\n",
       "    </tr>\n",
       "    <tr>\n",
       "      <th id=\"T_cd736_level0_row9\" class=\"row_heading level0 row9\" >9</th>\n",
       "      <td id=\"T_cd736_row9_col0\" class=\"data row9 col0\" >CatBoost_BAG_L2</td>\n",
       "      <td id=\"T_cd736_row9_col1\" class=\"data row9 col1\" >0.912854</td>\n",
       "      <td id=\"T_cd736_row9_col2\" class=\"data row9 col2\" >0.677279</td>\n",
       "      <td id=\"T_cd736_row9_col3\" class=\"data row9 col3\" >0.466600</td>\n",
       "      <td id=\"T_cd736_row9_col4\" class=\"data row9 col4\" >0.971020</td>\n",
       "      <td id=\"T_cd736_row9_col5\" class=\"data row9 col5\" >0.552538</td>\n",
       "      <td id=\"T_cd736_row9_col6\" class=\"data row9 col6\" >0.516866</td>\n",
       "    </tr>\n",
       "    <tr>\n",
       "      <th id=\"T_cd736_level0_row10\" class=\"row_heading level0 row10\" >10</th>\n",
       "      <td id=\"T_cd736_row10_col0\" class=\"data row10 col0\" >ExtraTreesGini_BAG_L2</td>\n",
       "      <td id=\"T_cd736_row10_col1\" class=\"data row10 col1\" >0.911704</td>\n",
       "      <td id=\"T_cd736_row10_col2\" class=\"data row10 col2\" >0.674591</td>\n",
       "      <td id=\"T_cd736_row10_col3\" class=\"data row10 col3\" >0.452642</td>\n",
       "      <td id=\"T_cd736_row10_col4\" class=\"data row10 col4\" >0.971540</td>\n",
       "      <td id=\"T_cd736_row10_col5\" class=\"data row10 col5\" >0.541766</td>\n",
       "      <td id=\"T_cd736_row10_col6\" class=\"data row10 col6\" >0.507081</td>\n",
       "    </tr>\n",
       "    <tr>\n",
       "      <th id=\"T_cd736_level0_row11\" class=\"row_heading level0 row11\" >11</th>\n",
       "      <td id=\"T_cd736_row11_col0\" class=\"data row11 col0\" >ExtraTreesEntr_BAG_L2</td>\n",
       "      <td id=\"T_cd736_row11_col1\" class=\"data row11 col1\" >0.913313</td>\n",
       "      <td id=\"T_cd736_row11_col2\" class=\"data row11 col2\" >0.688923</td>\n",
       "      <td id=\"T_cd736_row11_col3\" class=\"data row11 col3\" >0.452642</td>\n",
       "      <td id=\"T_cd736_row11_col4\" class=\"data row11 col4\" >0.973359</td>\n",
       "      <td id=\"T_cd736_row11_col5\" class=\"data row11 col5\" >0.546330</td>\n",
       "      <td id=\"T_cd736_row11_col6\" class=\"data row11 col6\" >0.514188</td>\n",
       "    </tr>\n",
       "  </tbody>\n",
       "</table>\n"
      ],
      "text/plain": [
       "<pandas.io.formats.style.Styler at 0x7fa8f6db19a0>"
      ]
     },
     "execution_count": 15,
     "metadata": {},
     "output_type": "execute_result"
    }
   ],
   "source": [
    "metrics.style.highlight_max(color = 'darkgreen', axis = 0)"
   ]
  },
  {
   "cell_type": "markdown",
   "metadata": {},
   "source": [
    "### To TeX"
   ]
  },
  {
   "cell_type": "code",
   "execution_count": null,
   "metadata": {},
   "outputs": [],
   "source": [
    "tex_content = metrics.style.highlight_max(color = 'green', axis = 0, subset=[\"MCC\"]).highlight_max(color = 'blue', axis=0, subset=[\"Accuracy\", \"Precision\", \"Recall\", \"Specificity\"]).to_latex()\n",
    "\n",
    "re_borders = re.compile(r\"begin\\{tabular\\}\\{([^\\}]+)\\}\")\n",
    "borders = re_borders.findall(tex_content)[0]\n",
    "borders = '|'.join(list(borders))\n",
    "tex_content = re_borders.sub(\"begin{tabular}{|\" + borders + \"|}\", tex_content)\n",
    "\n",
    "f = open(\"./latex/baseline_metrics_full\",\"w+\")\n",
    "f.write(tex_content)\n",
    "f.close()"
   ]
  }
 ],
 "metadata": {
  "interpreter": {
   "hash": "7e388574e17f6ca23220748dcaf3cb6a0c720f59460015cbd99ab8654b7febd3"
  },
  "kernelspec": {
   "display_name": "Python 3 (ipykernel)",
   "language": "python",
   "name": "python3"
  },
  "language_info": {
   "codemirror_mode": {
    "name": "ipython",
    "version": 3
   },
   "file_extension": ".py",
   "mimetype": "text/x-python",
   "name": "python",
   "nbconvert_exporter": "python",
   "pygments_lexer": "ipython3",
   "version": "3.8.3"
  }
 },
 "nbformat": 4,
 "nbformat_minor": 2
}
