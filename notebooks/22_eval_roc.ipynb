{
 "cells": [
  {
   "cell_type": "markdown",
   "id": "8fd6cd16",
   "metadata": {},
   "source": [
    "# 5.2 : ROC Curves for CNN and AutoGluon Models"
   ]
  },
  {
   "cell_type": "markdown",
   "id": "b2192d41",
   "metadata": {},
   "source": [
    "## Imports"
   ]
  },
  {
   "cell_type": "code",
   "execution_count": 1,
   "id": "c5287bbd",
   "metadata": {},
   "outputs": [],
   "source": [
    "import numpy as np\n",
    "import pandas as pd\n",
    "import matplotlib.pyplot as plt\n",
    "import tensorflow as tf\n",
    "from tensorflow.keras.models import load_model\n",
    "from autogluon.tabular import TabularPredictor\n",
    "from sklearn.metrics as m\n",
    "\n",
    "\n",
    "from superpac. base import get_split_mmp_indices"
   ]
  },
  {
   "cell_type": "markdown",
   "id": "9d73bf69",
   "metadata": {},
   "source": [
    "## Load test data and models"
   ]
  },
  {
   "cell_type": "markdown",
   "id": "059b242a",
   "metadata": {},
   "source": [
    "### For the AutoGluon models:"
   ]
  },
  {
   "cell_type": "code",
   "execution_count": 11,
   "id": "10c06e38",
   "metadata": {},
   "outputs": [],
   "source": [
    "full_df = pd.read_csv('./MACCS_keys/MACCS_frag_df.csv')\n",
    "\n",
    "ds_size = len(full_df)\n",
    "zero_out, one_out, two_out = get_split_mmp_indices(\"./index sets for train test split\", ds_size)\n",
    "\n",
    "#zero_out_df = full_df.iloc[zero_out]\n",
    "two_out_df = full_df.iloc[two_out]\n",
    "#one_out_df = full_df.iloc[one_out]\n",
    "\n",
    "#train_data = zero_out_df.drop('pKi_diff', axis=1)\n",
    "test_data = two_out_df.drop('pKi_diff', axis=1)\n",
    "#one_data = one_out_df.drop('pKi_diff', axis=1)\n",
    "\n",
    "label = 'is_AC'\n",
    "\n",
    "y_test = test_data[label]\n",
    "X_test = pd.DataFrame(test_data.drop(columns=[label]))\n",
    "\n",
    "\n",
    "\n",
    "predictor = TabularPredictor.load(\"./agModel_class_frag\")\n",
    "predictor.set_model_best('CatBoost_BAG_L2')\n",
    "pred_prob_ag = predictor.predict_proba(test_data)[1]"
   ]
  },
  {
   "cell_type": "markdown",
   "id": "f78640f6",
   "metadata": {},
   "source": [
    "### For the CNNs:"
   ]
  },
  {
   "cell_type": "code",
   "execution_count": 3,
   "id": "077c7329",
   "metadata": {},
   "outputs": [],
   "source": [
    "X_im_test = np.load(\"./split_datasets/test_X_frag_200.npy\")\n",
    "y_im_test = np.load(\"./split_datasets/test_y_frag_200.npy\")\n",
    "\n",
    "\n",
    "\n",
    "model = load_model(\"./M03\")\n",
    "preds = model.predict(X_im_test)\n",
    "pred_prob_cnn = [x[1] for x in preds]"
   ]
  },
  {
   "cell_type": "markdown",
   "id": "97ea7c5e",
   "metadata": {},
   "source": [
    "## Generating and Plotting ROC Curves"
   ]
  },
  {
   "cell_type": "code",
   "execution_count": 7,
   "id": "abf3532a",
   "metadata": {},
   "outputs": [
    {
     "data": {
      "text/plain": [
       "0.8038001507636859"
      ]
     },
     "execution_count": 7,
     "metadata": {},
     "output_type": "execute_result"
    }
   ],
   "source": [
    "\n",
    "fpr_ag, tpr_ag, thresholds_ag = m.roc_curve(y_test, pred_prob_ag)\n",
    "auc_ag = m.auc(fpr_ag, tpr_ag)\n",
    "auc_ag\n",
    "\n",
    "\n",
    "fpr_cnn, tpr_cnn, thresholds_cnn = m.roc_curve(y_im_test, pred_prob_cnn)\n",
    "auc_cnn = m.auc(fpr_cnn, tpr_cnn)\n",
    "auc_cnn"
   ]
  },
  {
   "cell_type": "code",
   "execution_count": 8,
   "id": "4fd114ca",
   "metadata": {},
   "outputs": [
    {
     "data": {
      "image/png": "[encoded data removed]",
      "text/plain": [
       "<Figure size 432x288 with 1 Axes>"
      ]
     },
     "metadata": {
      "needs_background": "light"
     },
     "output_type": "display_data"
    },
    {
     "data": {
      "text/plain": [
       "\"\\nplt.figure(2)\\nplt.xlim(0, 0.2)\\nplt.ylim(0.8, 1)\\nplt.plot([0, 1], [0, 1], 'k--')\\nplt.plot(fpr1, tpr_keras, label='Keras (area = {:.3f})'.format(auc_keras))\\nplt.plot(fpr2, tpr_rf, label='M11 (AUC = {:.3f})'.format(auc_rf))\\nplt.xlabel('False positive rate')\\nplt.ylabel('True positive rate')\\nplt.title('ROC curve (zoomed in at top left)')\\nplt.legend(loc='best')\\nplt.show()\""
      ]
     },
     "execution_count": 8,
     "metadata": {},
     "output_type": "execute_result"
    }
   ],
   "source": [
    "plt.figure(1)\n",
    "plt.plot([0, 1], [0, 1], 'k--')\n",
    "plt.plot(fpr_ag, tpr_ag, label='AutoGluon (AUC = {:.3f})'.format(auc_ag))\n",
    "plt.plot(fpr_cnn, tpr_cnn, label=\"CNN (AUC = {:.3f})\".format(auc_cnn))\n",
    "plt.xlabel('False positive rate')\n",
    "plt.ylabel('True positive rate')\n",
    "plt.title('ROC curve')\n",
    "plt.legend(loc='best')\n",
    "plt.show()\n",
    "\n",
    "\"\"\" # Zoom in view of the upper left corner.\n",
    "plt.figure(2)\n",
    "plt.xlim(0, 0.2)\n",
    "plt.ylim(0.8, 1)\n",
    "plt.plot([0, 1], [0, 1], 'k--')\n",
    "plt.plot(fpr1, tpr_keras, label='Keras (area = {:.3f})'.format(auc_keras))\n",
    "plt.plot(fpr2, tpr_rf, label='M11 (AUC = {:.3f})'.format(auc_rf))\n",
    "plt.xlabel('False positive rate')\n",
    "plt.ylabel('True positive rate')\n",
    "plt.title('ROC curve (zoomed in at top left)')\n",
    "plt.legend(loc='best')\n",
    "plt.show()\"\"\""
   ]
  }
 ],
 "metadata": {
  "kernelspec": {
   "display_name": "Python 3 (ipykernel)",
   "language": "python",
   "name": "python3"
  },
  "language_info": {
   "codemirror_mode": {
    "name": "ipython",
    "version": 3
   },
   "file_extension": ".py",
   "mimetype": "text/x-python",
   "name": "python",
   "nbconvert_exporter": "python",
   "pygments_lexer": "ipython3",
   "version": "3.8.3"
  }
 },
 "nbformat": 4,
 "nbformat_minor": 5
}
